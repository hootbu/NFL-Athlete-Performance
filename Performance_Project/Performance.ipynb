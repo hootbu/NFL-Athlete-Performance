{
 "cells": [
  {
   "cell_type": "code",
   "execution_count": 1,
   "metadata": {},
   "outputs": [],
   "source": [
    "# Import libraries\n",
    "import numpy as np\n",
    "import pandas as pd\n",
    "import matplotlib.pyplot as plt\n",
    "import seaborn as sns\n",
    "\n",
    "from sklearn.model_selection import train_test_split\n",
    "from sklearn.ensemble import RandomForestRegressor\n",
    "from sklearn.metrics import mean_squared_error, r2_score"
   ]
  },
  {
   "cell_type": "code",
   "execution_count": 2,
   "metadata": {},
   "outputs": [],
   "source": [
    "# Load the data\n",
    "df = pd.read_csv('Performance_Clean.csv')"
   ]
  },
  {
   "cell_type": "code",
   "execution_count": 3,
   "metadata": {},
   "outputs": [
    {
     "data": {
      "text/plain": [
       "(347, 45)"
      ]
     },
     "execution_count": 3,
     "metadata": {},
     "output_type": "execute_result"
    }
   ],
   "source": [
    "# Display the dataset's shape (x, y)\n",
    "df.shape"
   ]
  },
  {
   "cell_type": "code",
   "execution_count": 4,
   "metadata": {},
   "outputs": [
    {
     "data": {
      "text/html": [
       "<div>\n",
       "<style scoped>\n",
       "    .dataframe tbody tr th:only-of-type {\n",
       "        vertical-align: middle;\n",
       "    }\n",
       "\n",
       "    .dataframe tbody tr th {\n",
       "        vertical-align: top;\n",
       "    }\n",
       "\n",
       "    .dataframe thead th {\n",
       "        text-align: right;\n",
       "    }\n",
       "</style>\n",
       "<table border=\"1\" class=\"dataframe\">\n",
       "  <thead>\n",
       "    <tr style=\"text-align: right;\">\n",
       "      <th></th>\n",
       "      <th>Date</th>\n",
       "      <th>Weight</th>\n",
       "      <th>scriptedIntensity</th>\n",
       "      <th>RPE</th>\n",
       "      <th>Strain</th>\n",
       "      <th>maxHR</th>\n",
       "      <th>averageHR</th>\n",
       "      <th>kCal_Out</th>\n",
       "      <th>kCal_In</th>\n",
       "      <th>Protein</th>\n",
       "      <th>...</th>\n",
       "      <th>respitoryRate</th>\n",
       "      <th>iceTub</th>\n",
       "      <th>redLight</th>\n",
       "      <th>Speed</th>\n",
       "      <th>Strength</th>\n",
       "      <th>Mental</th>\n",
       "      <th>Soreness</th>\n",
       "      <th>Overall</th>\n",
       "      <th>Notes</th>\n",
       "      <th>Alcohol</th>\n",
       "    </tr>\n",
       "  </thead>\n",
       "  <tbody>\n",
       "    <tr>\n",
       "      <th>0</th>\n",
       "      <td>Tuesday, March 1, 2022</td>\n",
       "      <td>227.0</td>\n",
       "      <td>Medium</td>\n",
       "      <td>6.0</td>\n",
       "      <td>9.4</td>\n",
       "      <td>173.0</td>\n",
       "      <td>132.0</td>\n",
       "      <td>2389.0</td>\n",
       "      <td>3819.8</td>\n",
       "      <td>285.7</td>\n",
       "      <td>...</td>\n",
       "      <td>13.5</td>\n",
       "      <td>True</td>\n",
       "      <td>True</td>\n",
       "      <td>8.0</td>\n",
       "      <td>9.0</td>\n",
       "      <td>10.0</td>\n",
       "      <td>2.0</td>\n",
       "      <td>8.0</td>\n",
       "      <td>NaN</td>\n",
       "      <td>False</td>\n",
       "    </tr>\n",
       "    <tr>\n",
       "      <th>1</th>\n",
       "      <td>Wednesday, March 2, 2022</td>\n",
       "      <td>228.0</td>\n",
       "      <td>Light</td>\n",
       "      <td>5.0</td>\n",
       "      <td>7.2</td>\n",
       "      <td>156.0</td>\n",
       "      <td>128.0</td>\n",
       "      <td>2420.0</td>\n",
       "      <td>2849.6</td>\n",
       "      <td>223.0</td>\n",
       "      <td>...</td>\n",
       "      <td>13.4</td>\n",
       "      <td>True</td>\n",
       "      <td>False</td>\n",
       "      <td>7.0</td>\n",
       "      <td>9.0</td>\n",
       "      <td>8.0</td>\n",
       "      <td>4.0</td>\n",
       "      <td>7.0</td>\n",
       "      <td>NaN</td>\n",
       "      <td>False</td>\n",
       "    </tr>\n",
       "    <tr>\n",
       "      <th>2</th>\n",
       "      <td>Thursday, March 3, 2022</td>\n",
       "      <td>228.0</td>\n",
       "      <td>Medium</td>\n",
       "      <td>7.0</td>\n",
       "      <td>9.7</td>\n",
       "      <td>160.0</td>\n",
       "      <td>127.0</td>\n",
       "      <td>2782.0</td>\n",
       "      <td>3278.2</td>\n",
       "      <td>228.8</td>\n",
       "      <td>...</td>\n",
       "      <td>13.4</td>\n",
       "      <td>True</td>\n",
       "      <td>True</td>\n",
       "      <td>7.0</td>\n",
       "      <td>8.0</td>\n",
       "      <td>6.0</td>\n",
       "      <td>4.0</td>\n",
       "      <td>5.0</td>\n",
       "      <td>NaN</td>\n",
       "      <td>False</td>\n",
       "    </tr>\n",
       "    <tr>\n",
       "      <th>3</th>\n",
       "      <td>Friday, March 4, 2022</td>\n",
       "      <td>228.0</td>\n",
       "      <td>High</td>\n",
       "      <td>8.0</td>\n",
       "      <td>13.4</td>\n",
       "      <td>176.0</td>\n",
       "      <td>136.0</td>\n",
       "      <td>2948.0</td>\n",
       "      <td>NaN</td>\n",
       "      <td>NaN</td>\n",
       "      <td>...</td>\n",
       "      <td>13.5</td>\n",
       "      <td>True</td>\n",
       "      <td>False</td>\n",
       "      <td>8.0</td>\n",
       "      <td>8.0</td>\n",
       "      <td>8.0</td>\n",
       "      <td>5.0</td>\n",
       "      <td>8.0</td>\n",
       "      <td>NaN</td>\n",
       "      <td>True</td>\n",
       "    </tr>\n",
       "    <tr>\n",
       "      <th>4</th>\n",
       "      <td>Saturday, March 5, 2022</td>\n",
       "      <td>229.0</td>\n",
       "      <td>Light</td>\n",
       "      <td>4.0</td>\n",
       "      <td>8.5</td>\n",
       "      <td>145.0</td>\n",
       "      <td>124.0</td>\n",
       "      <td>2658.0</td>\n",
       "      <td>4396.2</td>\n",
       "      <td>276.6</td>\n",
       "      <td>...</td>\n",
       "      <td>13.2</td>\n",
       "      <td>False</td>\n",
       "      <td>False</td>\n",
       "      <td>NaN</td>\n",
       "      <td>NaN</td>\n",
       "      <td>5.0</td>\n",
       "      <td>6.0</td>\n",
       "      <td>5.0</td>\n",
       "      <td>NaN</td>\n",
       "      <td>True</td>\n",
       "    </tr>\n",
       "  </tbody>\n",
       "</table>\n",
       "<p>5 rows × 45 columns</p>\n",
       "</div>"
      ],
      "text/plain": [
       "                       Date  Weight scriptedIntensity  RPE  Strain  maxHR  \\\n",
       "0    Tuesday, March 1, 2022   227.0            Medium  6.0     9.4  173.0   \n",
       "1  Wednesday, March 2, 2022   228.0             Light  5.0     7.2  156.0   \n",
       "2   Thursday, March 3, 2022   228.0            Medium  7.0     9.7  160.0   \n",
       "3     Friday, March 4, 2022   228.0              High  8.0    13.4  176.0   \n",
       "4   Saturday, March 5, 2022   229.0             Light  4.0     8.5  145.0   \n",
       "\n",
       "   averageHR  kCal_Out  kCal_In  Protein  ...  respitoryRate  iceTub  \\\n",
       "0      132.0    2389.0   3819.8    285.7  ...           13.5    True   \n",
       "1      128.0    2420.0   2849.6    223.0  ...           13.4    True   \n",
       "2      127.0    2782.0   3278.2    228.8  ...           13.4    True   \n",
       "3      136.0    2948.0      NaN      NaN  ...           13.5    True   \n",
       "4      124.0    2658.0   4396.2    276.6  ...           13.2   False   \n",
       "\n",
       "   redLight  Speed  Strength  Mental  Soreness  Overall  Notes  Alcohol  \n",
       "0      True    8.0       9.0    10.0       2.0      8.0    NaN    False  \n",
       "1     False    7.0       9.0     8.0       4.0      7.0    NaN    False  \n",
       "2      True    7.0       8.0     6.0       4.0      5.0    NaN    False  \n",
       "3     False    8.0       8.0     8.0       5.0      8.0    NaN     True  \n",
       "4     False    NaN       NaN     5.0       6.0      5.0    NaN     True  \n",
       "\n",
       "[5 rows x 45 columns]"
      ]
     },
     "execution_count": 4,
     "metadata": {},
     "output_type": "execute_result"
    }
   ],
   "source": [
    "# Display the dataset's first 5 rows\n",
    "df.head()"
   ]
  },
  {
   "cell_type": "code",
   "execution_count": 5,
   "metadata": {},
   "outputs": [],
   "source": [
    "# Delete rows 341 to 346 (inclusive).\n",
    "# Because these rows only have data in 3 columns, which are not very necessary.\n",
    "df = df.drop(range(341, 347))"
   ]
  },
  {
   "cell_type": "code",
   "execution_count": 6,
   "metadata": {},
   "outputs": [
    {
     "data": {
      "text/plain": [
       "(341, 45)"
      ]
     },
     "execution_count": 6,
     "metadata": {},
     "output_type": "execute_result"
    }
   ],
   "source": [
    "# Now, let's check the shape of the dataset after removing the rows\n",
    "df.shape"
   ]
  },
  {
   "cell_type": "code",
   "execution_count": 7,
   "metadata": {},
   "outputs": [
    {
     "name": "stdout",
     "output_type": "stream",
     "text": [
      "['Date' 'Weight' 'scriptedIntensity' 'RPE' 'Strain' 'maxHR' 'averageHR'\n",
      " 'kCal_Out' 'kCal_In' 'Protein' 'Carbs' 'Fats' 'saturatedFat'\n",
      " 'Cholesterol' 'Sodium' 'Potassium' 'Sugar' 'Vitamin_A' 'Vitamin_C'\n",
      " 'Calcium' 'Iron' 'Creatine' 'Fish Oil' 'Vitamin_D' '135ozWater'\n",
      " 'totalSleep' 'sleepOnset' 'sleepEnd' 'In_bed_duration'\n",
      " 'Light_sleep_duration' 'Deep_SWS_duration' 'REM_Duration' 'awakeDuration'\n",
      " 'HRV' 'restingHR' 'respitoryRate' 'iceTub' 'redLight' 'Speed' 'Strength'\n",
      " 'Mental' 'Soreness' 'Overall' 'Notes' 'Alcohol']\n"
     ]
    }
   ],
   "source": [
    "# Show the columns of the dataset\n",
    "print(df.columns.values)"
   ]
  },
  {
   "cell_type": "code",
   "execution_count": 8,
   "metadata": {},
   "outputs": [],
   "source": [
    "# Drop the columns that are not needed\n",
    "df = df.drop(['Date', 'Notes', 'sleepOnset', 'sleepEnd'], axis=1)"
   ]
  },
  {
   "cell_type": "code",
   "execution_count": 9,
   "metadata": {},
   "outputs": [
    {
     "data": {
      "text/plain": [
       "(341, 41)"
      ]
     },
     "execution_count": 9,
     "metadata": {},
     "output_type": "execute_result"
    }
   ],
   "source": [
    "# Show the columns of the dataset after dropping the columns\n",
    "df.shape"
   ]
  },
  {
   "cell_type": "code",
   "execution_count": 10,
   "metadata": {},
   "outputs": [
    {
     "name": "stdout",
     "output_type": "stream",
     "text": [
      "['Weight' 'scriptedIntensity' 'RPE' 'Strain' 'maxHR' 'averageHR'\n",
      " 'kCal_Out' 'kCal_In' 'Protein' 'Carbs' 'Fats' 'saturatedFat'\n",
      " 'Cholesterol' 'Sodium' 'Potassium' 'Sugar' 'Vitamin_A' 'Vitamin_C'\n",
      " 'Calcium' 'Iron' 'Creatine' 'Fish Oil' 'Vitamin_D' '135ozWater'\n",
      " 'totalSleep' 'In_bed_duration' 'Light_sleep_duration' 'Deep_SWS_duration'\n",
      " 'REM_Duration' 'awakeDuration' 'HRV' 'restingHR' 'respitoryRate' 'iceTub'\n",
      " 'redLight' 'Speed' 'Strength' 'Mental' 'Soreness' 'Overall' 'Alcohol']\n"
     ]
    }
   ],
   "source": [
    "# Show the columns of the dataset\n",
    "print(df.columns.values)"
   ]
  },
  {
   "cell_type": "code",
   "execution_count": 11,
   "metadata": {},
   "outputs": [
    {
     "data": {
      "text/plain": [
       "Weight                  float64\n",
       "scriptedIntensity        object\n",
       "RPE                     float64\n",
       "Strain                  float64\n",
       "maxHR                   float64\n",
       "averageHR               float64\n",
       "kCal_Out                float64\n",
       "kCal_In                 float64\n",
       "Protein                 float64\n",
       "Carbs                   float64\n",
       "Fats                    float64\n",
       "saturatedFat            float64\n",
       "Cholesterol             float64\n",
       "Sodium                  float64\n",
       "Potassium               float64\n",
       "Sugar                   float64\n",
       "Vitamin_A               float64\n",
       "Vitamin_C               float64\n",
       "Calcium                 float64\n",
       "Iron                    float64\n",
       "Creatine                 object\n",
       "Fish Oil                 object\n",
       "Vitamin_D                object\n",
       "135ozWater               object\n",
       "totalSleep              float64\n",
       "In_bed_duration         float64\n",
       "Light_sleep_duration    float64\n",
       "Deep_SWS_duration       float64\n",
       "REM_Duration            float64\n",
       "awakeDuration           float64\n",
       "HRV                     float64\n",
       "restingHR               float64\n",
       "respitoryRate            object\n",
       "iceTub                     bool\n",
       "redLight                   bool\n",
       "Speed                   float64\n",
       "Strength                float64\n",
       "Mental                  float64\n",
       "Soreness                float64\n",
       "Overall                 float64\n",
       "Alcohol                    bool\n",
       "dtype: object"
      ]
     },
     "execution_count": 11,
     "metadata": {},
     "output_type": "execute_result"
    }
   ],
   "source": [
    "# Display the dataset's columns and their data types\n",
    "df.dtypes"
   ]
  },
  {
   "cell_type": "code",
   "execution_count": 12,
   "metadata": {},
   "outputs": [
    {
     "data": {
      "text/plain": [
       "array(['13.5', '13.4', '13.2', '13.6', '13.3', nan, '13.1', '13.8',\n",
       "       '13.9', '13.7', '14.4', '13', '14.1', '13. 7', '14.7', '12.7',\n",
       "       '12.9'], dtype=object)"
      ]
     },
     "execution_count": 12,
     "metadata": {},
     "output_type": "execute_result"
    }
   ],
   "source": [
    "df['respitoryRate'].unique()"
   ]
  },
  {
   "cell_type": "code",
   "execution_count": 13,
   "metadata": {},
   "outputs": [
    {
     "name": "stdout",
     "output_type": "stream",
     "text": [
      "Index(['scriptedIntensity', 'Creatine', 'Fish Oil', 'Vitamin_D', '135ozWater',\n",
      "       'respitoryRate'],\n",
      "      dtype='object')\n"
     ]
    }
   ],
   "source": [
    "# Select columns with object data type\n",
    "object_columns = df.select_dtypes(include=['object']).columns\n",
    "print(object_columns)"
   ]
  },
  {
   "cell_type": "code",
   "execution_count": 14,
   "metadata": {},
   "outputs": [],
   "source": [
    "# Transform the 'respitoryRate' column tp float\n",
    "df['respitoryRate'] = df['respitoryRate'].str.replace(' ', '').astype(float)"
   ]
  },
  {
   "cell_type": "code",
   "execution_count": 15,
   "metadata": {},
   "outputs": [
    {
     "data": {
      "text/plain": [
       "array([13.5, 13.4, 13.2, 13.6, 13.3,  nan, 13.1, 13.8, 13.9, 13.7, 14.4,\n",
       "       13. , 14.1, 14.7, 12.7, 12.9])"
      ]
     },
     "execution_count": 15,
     "metadata": {},
     "output_type": "execute_result"
    }
   ],
   "source": [
    "df['respitoryRate'].unique()"
   ]
  },
  {
   "cell_type": "code",
   "execution_count": 16,
   "metadata": {},
   "outputs": [],
   "source": [
    "# Convert the specified columns to bool data type\n",
    "bool_columns = ['Creatine', 'Fish Oil', 'Vitamin_D', '135ozWater']\n",
    "df[bool_columns] = df[bool_columns].astype(bool)"
   ]
  },
  {
   "cell_type": "code",
   "execution_count": 17,
   "metadata": {},
   "outputs": [
    {
     "name": "stdout",
     "output_type": "stream",
     "text": [
      "Index(['scriptedIntensity'], dtype='object')\n"
     ]
    }
   ],
   "source": [
    "# Display the dataset's columns and their data types\n",
    "object_columns = df.select_dtypes(include=['object']).columns\n",
    "print(object_columns)"
   ]
  },
  {
   "cell_type": "markdown",
   "metadata": {},
   "source": [
    "#### Average RPE vs. Scripted Intensity"
   ]
  },
  {
   "cell_type": "code",
   "execution_count": 18,
   "metadata": {},
   "outputs": [
    {
     "data": {
      "image/png": "[encoded data removed]",
      "text/plain": [
       "<Figure size 1000x600 with 1 Axes>"
      ]
     },
     "metadata": {},
     "output_type": "display_data"
    }
   ],
   "source": [
    "# Filter the OFF days from 'scriptedIntensity' column\n",
    "df_filtered = df[df['scriptedIntensity'] != 'OFF'].copy()\n",
    "\n",
    "# make 'scriptedIntensity' column categorical  \n",
    "intensity_order = ['Light', 'Medium', 'High']\n",
    "df_filtered.loc[:, 'scriptedIntensity'] = pd.Categorical(\n",
    "    df_filtered['scriptedIntensity'], \n",
    "    categories=intensity_order, \n",
    "    ordered=True\n",
    ")\n",
    "\n",
    "# Calculate the average RPE for each scripted intensity\n",
    "avgRPE_data = df_filtered.groupby('scriptedIntensity').agg(avgRPE=('RPE', 'mean')).reset_index()\n",
    "\n",
    "# Visualize the graph\n",
    "plt.figure(figsize=(10, 6))\n",
    "bar_plot = sns.barplot(\n",
    "    data=avgRPE_data, \n",
    "    x='scriptedIntensity', \n",
    "    y='avgRPE', \n",
    "    hue='scriptedIntensity', \n",
    "    dodge=False, \n",
    "    palette={'Light': 'blue', 'Medium': 'green', 'High': 'red'}\n",
    ")\n",
    "\n",
    "for index, row in avgRPE_data.iterrows():\n",
    "    bar_plot.text(index, row.avgRPE, round(row.avgRPE, 2), color='black', ha=\"center\")\n",
    "\n",
    "plt.title('Average RPE vs. Scripted Intensity', fontsize=16, fontweight='bold')\n",
    "plt.xlabel('Scripted Intensity', fontsize=14)\n",
    "plt.ylabel('Average RPE', fontsize=14)\n",
    "plt.xticks(rotation=45, fontsize=12)\n",
    "plt.yticks(fontsize=12)\n",
    "plt.show()"
   ]
  },
  {
   "cell_type": "markdown",
   "metadata": {},
   "source": [
    "#### Does sleep have an affect on the following day's performance?"
   ]
  },
  {
   "cell_type": "code",
   "execution_count": 19,
   "metadata": {},
   "outputs": [
    {
     "name": "stdout",
     "output_type": "stream",
     "text": [
      "Correlation between totalSleep and Overall: 0.27\n"
     ]
    }
   ],
   "source": [
    "# Calculate the correlation between 'totalSleep' and 'Overall'\n",
    "correlation = df['totalSleep'].corr(df['Overall'])\n",
    "print(f\"Correlation between totalSleep and Overall: {correlation:.2f}\")"
   ]
  },
  {
   "cell_type": "code",
   "execution_count": 20,
   "metadata": {},
   "outputs": [
    {
     "data": {
      "image/png": "[encoded data removed]",
      "text/plain": [
       "<Figure size 1000x600 with 1 Axes>"
      ]
     },
     "metadata": {},
     "output_type": "display_data"
    }
   ],
   "source": [
    "# Calculate the average sleep duration and convert minutes to hours\n",
    "avgSleep_data = df.groupby('Overall').agg(avgSleep=('totalSleep', 'mean')).reset_index()\n",
    "avgSleep_data['avgSleep'] = avgSleep_data['avgSleep'] / 60  # Convert minutes to hours\n",
    "\n",
    "# Create a bar plot\n",
    "plt.figure(figsize=(10, 6))\n",
    "bar_plot = sns.barplot(\n",
    "    data=avgSleep_data,\n",
    "    x='Overall',\n",
    "    y='avgSleep',\n",
    "    hue='Overall',   # Set hue as Overall for categorical distinction\n",
    "    dodge=False,     # Disable shadowing\n",
    "    palette=sns.light_palette(\"blue\", n_colors=len(avgSleep_data)),\n",
    "    legend=False     # Hide the color legend\n",
    ")\n",
    "\n",
    "# Add values on top of the bars\n",
    "for index, row in avgSleep_data.iterrows():\n",
    "    bar_plot.text(index, row.avgSleep, round(row.avgSleep, 2), color='black', ha=\"center\", size=10)\n",
    "\n",
    "# Limit the Y axis\n",
    "plt.ylim(5.5, 7.3)  # Limit the Y axis between 5 and 7\n",
    "\n",
    "# Set the title and labels\n",
    "plt.title(\"Sleep's Effect on Overall Performance\", fontsize=16, fontweight='bold')\n",
    "plt.xlabel(\"Overall Performance\", fontsize=14)\n",
    "plt.ylabel(\"Average Sleep (Hours)\", fontsize=14)\n",
    "plt.xticks(fontsize=12)\n",
    "plt.yticks(fontsize=12)\n",
    "\n",
    "# Show the plot\n",
    "plt.show()\n"
   ]
  },
  {
   "cell_type": "markdown",
   "metadata": {},
   "source": [
    "#### Considering all the data, how accurately can the machine know overall performance value when new input values ​​are given?"
   ]
  },
  {
   "cell_type": "code",
   "execution_count": 21,
   "metadata": {},
   "outputs": [],
   "source": [
    "# Drop the 'scriptedIntensity' column\n",
    "df = df.drop(['scriptedIntensity'], axis=1)"
   ]
  },
  {
   "cell_type": "code",
   "execution_count": 22,
   "metadata": {},
   "outputs": [
    {
     "data": {
      "text/plain": [
       "Weight                    9\n",
       "RPE                      49\n",
       "Strain                   15\n",
       "maxHR                    23\n",
       "averageHR                23\n",
       "kCal_Out                 34\n",
       "kCal_In                  93\n",
       "Protein                  95\n",
       "Carbs                    94\n",
       "Fats                     96\n",
       "saturatedFat             95\n",
       "Cholesterol              95\n",
       "Sodium                   96\n",
       "Potassium                98\n",
       "Sugar                    98\n",
       "Vitamin_A                98\n",
       "Vitamin_C                99\n",
       "Calcium                 101\n",
       "Iron                    102\n",
       "Creatine                  0\n",
       "Fish Oil                  0\n",
       "Vitamin_D                 0\n",
       "135ozWater                0\n",
       "totalSleep               59\n",
       "In_bed_duration          60\n",
       "Light_sleep_duration     60\n",
       "Deep_SWS_duration        60\n",
       "REM_Duration             60\n",
       "awakeDuration            62\n",
       "HRV                      48\n",
       "restingHR                46\n",
       "respitoryRate            42\n",
       "iceTub                    0\n",
       "redLight                  0\n",
       "Speed                    95\n",
       "Strength                 95\n",
       "Mental                    1\n",
       "Soreness                  1\n",
       "Overall                   1\n",
       "Alcohol                   0\n",
       "dtype: int64"
      ]
     },
     "execution_count": 22,
     "metadata": {},
     "output_type": "execute_result"
    }
   ],
   "source": [
    "# Check for missing values\n",
    "df.isna().sum()"
   ]
  },
  {
   "cell_type": "code",
   "execution_count": 23,
   "metadata": {},
   "outputs": [],
   "source": [
    "# Fill missing values with the mean of each column\n",
    "for column in df.columns:\n",
    "    df.loc[:, column] = df[column].fillna(df[column].mean())"
   ]
  },
  {
   "cell_type": "code",
   "execution_count": 24,
   "metadata": {},
   "outputs": [
    {
     "data": {
      "text/plain": [
       "Weight                  0\n",
       "RPE                     0\n",
       "Strain                  0\n",
       "maxHR                   0\n",
       "averageHR               0\n",
       "kCal_Out                0\n",
       "kCal_In                 0\n",
       "Protein                 0\n",
       "Carbs                   0\n",
       "Fats                    0\n",
       "saturatedFat            0\n",
       "Cholesterol             0\n",
       "Sodium                  0\n",
       "Potassium               0\n",
       "Sugar                   0\n",
       "Vitamin_A               0\n",
       "Vitamin_C               0\n",
       "Calcium                 0\n",
       "Iron                    0\n",
       "Creatine                0\n",
       "Fish Oil                0\n",
       "Vitamin_D               0\n",
       "135ozWater              0\n",
       "totalSleep              0\n",
       "In_bed_duration         0\n",
       "Light_sleep_duration    0\n",
       "Deep_SWS_duration       0\n",
       "REM_Duration            0\n",
       "awakeDuration           0\n",
       "HRV                     0\n",
       "restingHR               0\n",
       "respitoryRate           0\n",
       "iceTub                  0\n",
       "redLight                0\n",
       "Speed                   0\n",
       "Strength                0\n",
       "Mental                  0\n",
       "Soreness                0\n",
       "Overall                 0\n",
       "Alcohol                 0\n",
       "dtype: int64"
      ]
     },
     "execution_count": 24,
     "metadata": {},
     "output_type": "execute_result"
    }
   ],
   "source": [
    "# Check for missing values after filling them with the mean\n",
    "df.isna().sum()"
   ]
  },
  {
   "cell_type": "code",
   "execution_count": 25,
   "metadata": {},
   "outputs": [],
   "source": [
    "# Split the target and features\n",
    "X = df.drop(columns=['Overall'])  # Feature columns (all columns except the target)\n",
    "y = df['Overall']  # Target column"
   ]
  },
  {
   "cell_type": "code",
   "execution_count": 26,
   "metadata": {},
   "outputs": [],
   "source": [
    "# Split the data into training and testing sets (80% train, 20% test)\n",
    "X_train, X_test, y_train, y_test = train_test_split(X, y, test_size=0.2, random_state=42)"
   ]
  },
  {
   "cell_type": "code",
   "execution_count": 27,
   "metadata": {},
   "outputs": [
    {
     "data": {
      "text/html": [
       "<style>#sk-container-id-1 {\n",
       "  /* Definition of color scheme common for light and dark mode */\n",
       "  --sklearn-color-text: #000;\n",
       "  --sklearn-color-text-muted: #666;\n",
       "  --sklearn-color-line: gray;\n",
       "  /* Definition of color scheme for unfitted estimators */\n",
       "  --sklearn-color-unfitted-level-0: #fff5e6;\n",
       "  --sklearn-color-unfitted-level-1: #f6e4d2;\n",
       "  --sklearn-color-unfitted-level-2: #ffe0b3;\n",
       "  --sklearn-color-unfitted-level-3: chocolate;\n",
       "  /* Definition of color scheme for fitted estimators */\n",
       "  --sklearn-color-fitted-level-0: #f0f8ff;\n",
       "  --sklearn-color-fitted-level-1: #d4ebff;\n",
       "  --sklearn-color-fitted-level-2: #b3dbfd;\n",
       "  --sklearn-color-fitted-level-3: cornflowerblue;\n",
       "\n",
       "  /* Specific color for light theme */\n",
       "  --sklearn-color-text-on-default-background: var(--sg-text-color, var(--theme-code-foreground, var(--jp-content-font-color1, black)));\n",
       "  --sklearn-color-background: var(--sg-background-color, var(--theme-background, var(--jp-layout-color0, white)));\n",
       "  --sklearn-color-border-box: var(--sg-text-color, var(--theme-code-foreground, var(--jp-content-font-color1, black)));\n",
       "  --sklearn-color-icon: #696969;\n",
       "\n",
       "  @media (prefers-color-scheme: dark) {\n",
       "    /* Redefinition of color scheme for dark theme */\n",
       "    --sklearn-color-text-on-default-background: var(--sg-text-color, var(--theme-code-foreground, var(--jp-content-font-color1, white)));\n",
       "    --sklearn-color-background: var(--sg-background-color, var(--theme-background, var(--jp-layout-color0, #111)));\n",
       "    --sklearn-color-border-box: var(--sg-text-color, var(--theme-code-foreground, var(--jp-content-font-color1, white)));\n",
       "    --sklearn-color-icon: #878787;\n",
       "  }\n",
       "}\n",
       "\n",
       "#sk-container-id-1 {\n",
       "  color: var(--sklearn-color-text);\n",
       "}\n",
       "\n",
       "#sk-container-id-1 pre {\n",
       "  padding: 0;\n",
       "}\n",
       "\n",
       "#sk-container-id-1 input.sk-hidden--visually {\n",
       "  border: 0;\n",
       "  clip: rect(1px 1px 1px 1px);\n",
       "  clip: rect(1px, 1px, 1px, 1px);\n",
       "  height: 1px;\n",
       "  margin: -1px;\n",
       "  overflow: hidden;\n",
       "  padding: 0;\n",
       "  position: absolute;\n",
       "  width: 1px;\n",
       "}\n",
       "\n",
       "#sk-container-id-1 div.sk-dashed-wrapped {\n",
       "  border: 1px dashed var(--sklearn-color-line);\n",
       "  margin: 0 0.4em 0.5em 0.4em;\n",
       "  box-sizing: border-box;\n",
       "  padding-bottom: 0.4em;\n",
       "  background-color: var(--sklearn-color-background);\n",
       "}\n",
       "\n",
       "#sk-container-id-1 div.sk-container {\n",
       "  /* jupyter's `normalize.less` sets `[hidden] { display: none; }`\n",
       "     but bootstrap.min.css set `[hidden] { display: none !important; }`\n",
       "     so we also need the `!important` here to be able to override the\n",
       "     default hidden behavior on the sphinx rendered scikit-learn.org.\n",
       "     See: https://github.com/scikit-learn/scikit-learn/issues/21755 */\n",
       "  display: inline-block !important;\n",
       "  position: relative;\n",
       "}\n",
       "\n",
       "#sk-container-id-1 div.sk-text-repr-fallback {\n",
       "  display: none;\n",
       "}\n",
       "\n",
       "div.sk-parallel-item,\n",
       "div.sk-serial,\n",
       "div.sk-item {\n",
       "  /* draw centered vertical line to link estimators */\n",
       "  background-image: linear-gradient(var(--sklearn-color-text-on-default-background), var(--sklearn-color-text-on-default-background));\n",
       "  background-size: 2px 100%;\n",
       "  background-repeat: no-repeat;\n",
       "  background-position: center center;\n",
       "}\n",
       "\n",
       "/* Parallel-specific style estimator block */\n",
       "\n",
       "#sk-container-id-1 div.sk-parallel-item::after {\n",
       "  content: \"\";\n",
       "  width: 100%;\n",
       "  border-bottom: 2px solid var(--sklearn-color-text-on-default-background);\n",
       "  flex-grow: 1;\n",
       "}\n",
       "\n",
       "#sk-container-id-1 div.sk-parallel {\n",
       "  display: flex;\n",
       "  align-items: stretch;\n",
       "  justify-content: center;\n",
       "  background-color: var(--sklearn-color-background);\n",
       "  position: relative;\n",
       "}\n",
       "\n",
       "#sk-container-id-1 div.sk-parallel-item {\n",
       "  display: flex;\n",
       "  flex-direction: column;\n",
       "}\n",
       "\n",
       "#sk-container-id-1 div.sk-parallel-item:first-child::after {\n",
       "  align-self: flex-end;\n",
       "  width: 50%;\n",
       "}\n",
       "\n",
       "#sk-container-id-1 div.sk-parallel-item:last-child::after {\n",
       "  align-self: flex-start;\n",
       "  width: 50%;\n",
       "}\n",
       "\n",
       "#sk-container-id-1 div.sk-parallel-item:only-child::after {\n",
       "  width: 0;\n",
       "}\n",
       "\n",
       "/* Serial-specific style estimator block */\n",
       "\n",
       "#sk-container-id-1 div.sk-serial {\n",
       "  display: flex;\n",
       "  flex-direction: column;\n",
       "  align-items: center;\n",
       "  background-color: var(--sklearn-color-background);\n",
       "  padding-right: 1em;\n",
       "  padding-left: 1em;\n",
       "}\n",
       "\n",
       "\n",
       "/* Toggleable style: style used for estimator/Pipeline/ColumnTransformer box that is\n",
       "clickable and can be expanded/collapsed.\n",
       "- Pipeline and ColumnTransformer use this feature and define the default style\n",
       "- Estimators will overwrite some part of the style using the `sk-estimator` class\n",
       "*/\n",
       "\n",
       "/* Pipeline and ColumnTransformer style (default) */\n",
       "\n",
       "#sk-container-id-1 div.sk-toggleable {\n",
       "  /* Default theme specific background. It is overwritten whether we have a\n",
       "  specific estimator or a Pipeline/ColumnTransformer */\n",
       "  background-color: var(--sklearn-color-background);\n",
       "}\n",
       "\n",
       "/* Toggleable label */\n",
       "#sk-container-id-1 label.sk-toggleable__label {\n",
       "  cursor: pointer;\n",
       "  display: flex;\n",
       "  width: 100%;\n",
       "  margin-bottom: 0;\n",
       "  padding: 0.5em;\n",
       "  box-sizing: border-box;\n",
       "  text-align: center;\n",
       "  align-items: start;\n",
       "  justify-content: space-between;\n",
       "  gap: 0.5em;\n",
       "}\n",
       "\n",
       "#sk-container-id-1 label.sk-toggleable__label .caption {\n",
       "  font-size: 0.6rem;\n",
       "  font-weight: lighter;\n",
       "  color: var(--sklearn-color-text-muted);\n",
       "}\n",
       "\n",
       "#sk-container-id-1 label.sk-toggleable__label-arrow:before {\n",
       "  /* Arrow on the left of the label */\n",
       "  content: \"▸\";\n",
       "  float: left;\n",
       "  margin-right: 0.25em;\n",
       "  color: var(--sklearn-color-icon);\n",
       "}\n",
       "\n",
       "#sk-container-id-1 label.sk-toggleable__label-arrow:hover:before {\n",
       "  color: var(--sklearn-color-text);\n",
       "}\n",
       "\n",
       "/* Toggleable content - dropdown */\n",
       "\n",
       "#sk-container-id-1 div.sk-toggleable__content {\n",
       "  max-height: 0;\n",
       "  max-width: 0;\n",
       "  overflow: hidden;\n",
       "  text-align: left;\n",
       "  /* unfitted */\n",
       "  background-color: var(--sklearn-color-unfitted-level-0);\n",
       "}\n",
       "\n",
       "#sk-container-id-1 div.sk-toggleable__content.fitted {\n",
       "  /* fitted */\n",
       "  background-color: var(--sklearn-color-fitted-level-0);\n",
       "}\n",
       "\n",
       "#sk-container-id-1 div.sk-toggleable__content pre {\n",
       "  margin: 0.2em;\n",
       "  border-radius: 0.25em;\n",
       "  color: var(--sklearn-color-text);\n",
       "  /* unfitted */\n",
       "  background-color: var(--sklearn-color-unfitted-level-0);\n",
       "}\n",
       "\n",
       "#sk-container-id-1 div.sk-toggleable__content.fitted pre {\n",
       "  /* unfitted */\n",
       "  background-color: var(--sklearn-color-fitted-level-0);\n",
       "}\n",
       "\n",
       "#sk-container-id-1 input.sk-toggleable__control:checked~div.sk-toggleable__content {\n",
       "  /* Expand drop-down */\n",
       "  max-height: 200px;\n",
       "  max-width: 100%;\n",
       "  overflow: auto;\n",
       "}\n",
       "\n",
       "#sk-container-id-1 input.sk-toggleable__control:checked~label.sk-toggleable__label-arrow:before {\n",
       "  content: \"▾\";\n",
       "}\n",
       "\n",
       "/* Pipeline/ColumnTransformer-specific style */\n",
       "\n",
       "#sk-container-id-1 div.sk-label input.sk-toggleable__control:checked~label.sk-toggleable__label {\n",
       "  color: var(--sklearn-color-text);\n",
       "  background-color: var(--sklearn-color-unfitted-level-2);\n",
       "}\n",
       "\n",
       "#sk-container-id-1 div.sk-label.fitted input.sk-toggleable__control:checked~label.sk-toggleable__label {\n",
       "  background-color: var(--sklearn-color-fitted-level-2);\n",
       "}\n",
       "\n",
       "/* Estimator-specific style */\n",
       "\n",
       "/* Colorize estimator box */\n",
       "#sk-container-id-1 div.sk-estimator input.sk-toggleable__control:checked~label.sk-toggleable__label {\n",
       "  /* unfitted */\n",
       "  background-color: var(--sklearn-color-unfitted-level-2);\n",
       "}\n",
       "\n",
       "#sk-container-id-1 div.sk-estimator.fitted input.sk-toggleable__control:checked~label.sk-toggleable__label {\n",
       "  /* fitted */\n",
       "  background-color: var(--sklearn-color-fitted-level-2);\n",
       "}\n",
       "\n",
       "#sk-container-id-1 div.sk-label label.sk-toggleable__label,\n",
       "#sk-container-id-1 div.sk-label label {\n",
       "  /* The background is the default theme color */\n",
       "  color: var(--sklearn-color-text-on-default-background);\n",
       "}\n",
       "\n",
       "/* On hover, darken the color of the background */\n",
       "#sk-container-id-1 div.sk-label:hover label.sk-toggleable__label {\n",
       "  color: var(--sklearn-color-text);\n",
       "  background-color: var(--sklearn-color-unfitted-level-2);\n",
       "}\n",
       "\n",
       "/* Label box, darken color on hover, fitted */\n",
       "#sk-container-id-1 div.sk-label.fitted:hover label.sk-toggleable__label.fitted {\n",
       "  color: var(--sklearn-color-text);\n",
       "  background-color: var(--sklearn-color-fitted-level-2);\n",
       "}\n",
       "\n",
       "/* Estimator label */\n",
       "\n",
       "#sk-container-id-1 div.sk-label label {\n",
       "  font-family: monospace;\n",
       "  font-weight: bold;\n",
       "  display: inline-block;\n",
       "  line-height: 1.2em;\n",
       "}\n",
       "\n",
       "#sk-container-id-1 div.sk-label-container {\n",
       "  text-align: center;\n",
       "}\n",
       "\n",
       "/* Estimator-specific */\n",
       "#sk-container-id-1 div.sk-estimator {\n",
       "  font-family: monospace;\n",
       "  border: 1px dotted var(--sklearn-color-border-box);\n",
       "  border-radius: 0.25em;\n",
       "  box-sizing: border-box;\n",
       "  margin-bottom: 0.5em;\n",
       "  /* unfitted */\n",
       "  background-color: var(--sklearn-color-unfitted-level-0);\n",
       "}\n",
       "\n",
       "#sk-container-id-1 div.sk-estimator.fitted {\n",
       "  /* fitted */\n",
       "  background-color: var(--sklearn-color-fitted-level-0);\n",
       "}\n",
       "\n",
       "/* on hover */\n",
       "#sk-container-id-1 div.sk-estimator:hover {\n",
       "  /* unfitted */\n",
       "  background-color: var(--sklearn-color-unfitted-level-2);\n",
       "}\n",
       "\n",
       "#sk-container-id-1 div.sk-estimator.fitted:hover {\n",
       "  /* fitted */\n",
       "  background-color: var(--sklearn-color-fitted-level-2);\n",
       "}\n",
       "\n",
       "/* Specification for estimator info (e.g. \"i\" and \"?\") */\n",
       "\n",
       "/* Common style for \"i\" and \"?\" */\n",
       "\n",
       ".sk-estimator-doc-link,\n",
       "a:link.sk-estimator-doc-link,\n",
       "a:visited.sk-estimator-doc-link {\n",
       "  float: right;\n",
       "  font-size: smaller;\n",
       "  line-height: 1em;\n",
       "  font-family: monospace;\n",
       "  background-color: var(--sklearn-color-background);\n",
       "  border-radius: 1em;\n",
       "  height: 1em;\n",
       "  width: 1em;\n",
       "  text-decoration: none !important;\n",
       "  margin-left: 0.5em;\n",
       "  text-align: center;\n",
       "  /* unfitted */\n",
       "  border: var(--sklearn-color-unfitted-level-1) 1pt solid;\n",
       "  color: var(--sklearn-color-unfitted-level-1);\n",
       "}\n",
       "\n",
       ".sk-estimator-doc-link.fitted,\n",
       "a:link.sk-estimator-doc-link.fitted,\n",
       "a:visited.sk-estimator-doc-link.fitted {\n",
       "  /* fitted */\n",
       "  border: var(--sklearn-color-fitted-level-1) 1pt solid;\n",
       "  color: var(--sklearn-color-fitted-level-1);\n",
       "}\n",
       "\n",
       "/* On hover */\n",
       "div.sk-estimator:hover .sk-estimator-doc-link:hover,\n",
       ".sk-estimator-doc-link:hover,\n",
       "div.sk-label-container:hover .sk-estimator-doc-link:hover,\n",
       ".sk-estimator-doc-link:hover {\n",
       "  /* unfitted */\n",
       "  background-color: var(--sklearn-color-unfitted-level-3);\n",
       "  color: var(--sklearn-color-background);\n",
       "  text-decoration: none;\n",
       "}\n",
       "\n",
       "div.sk-estimator.fitted:hover .sk-estimator-doc-link.fitted:hover,\n",
       ".sk-estimator-doc-link.fitted:hover,\n",
       "div.sk-label-container:hover .sk-estimator-doc-link.fitted:hover,\n",
       ".sk-estimator-doc-link.fitted:hover {\n",
       "  /* fitted */\n",
       "  background-color: var(--sklearn-color-fitted-level-3);\n",
       "  color: var(--sklearn-color-background);\n",
       "  text-decoration: none;\n",
       "}\n",
       "\n",
       "/* Span, style for the box shown on hovering the info icon */\n",
       ".sk-estimator-doc-link span {\n",
       "  display: none;\n",
       "  z-index: 9999;\n",
       "  position: relative;\n",
       "  font-weight: normal;\n",
       "  right: .2ex;\n",
       "  padding: .5ex;\n",
       "  margin: .5ex;\n",
       "  width: min-content;\n",
       "  min-width: 20ex;\n",
       "  max-width: 50ex;\n",
       "  color: var(--sklearn-color-text);\n",
       "  box-shadow: 2pt 2pt 4pt #999;\n",
       "  /* unfitted */\n",
       "  background: var(--sklearn-color-unfitted-level-0);\n",
       "  border: .5pt solid var(--sklearn-color-unfitted-level-3);\n",
       "}\n",
       "\n",
       ".sk-estimator-doc-link.fitted span {\n",
       "  /* fitted */\n",
       "  background: var(--sklearn-color-fitted-level-0);\n",
       "  border: var(--sklearn-color-fitted-level-3);\n",
       "}\n",
       "\n",
       ".sk-estimator-doc-link:hover span {\n",
       "  display: block;\n",
       "}\n",
       "\n",
       "/* \"?\"-specific style due to the `<a>` HTML tag */\n",
       "\n",
       "#sk-container-id-1 a.estimator_doc_link {\n",
       "  float: right;\n",
       "  font-size: 1rem;\n",
       "  line-height: 1em;\n",
       "  font-family: monospace;\n",
       "  background-color: var(--sklearn-color-background);\n",
       "  border-radius: 1rem;\n",
       "  height: 1rem;\n",
       "  width: 1rem;\n",
       "  text-decoration: none;\n",
       "  /* unfitted */\n",
       "  color: var(--sklearn-color-unfitted-level-1);\n",
       "  border: var(--sklearn-color-unfitted-level-1) 1pt solid;\n",
       "}\n",
       "\n",
       "#sk-container-id-1 a.estimator_doc_link.fitted {\n",
       "  /* fitted */\n",
       "  border: var(--sklearn-color-fitted-level-1) 1pt solid;\n",
       "  color: var(--sklearn-color-fitted-level-1);\n",
       "}\n",
       "\n",
       "/* On hover */\n",
       "#sk-container-id-1 a.estimator_doc_link:hover {\n",
       "  /* unfitted */\n",
       "  background-color: var(--sklearn-color-unfitted-level-3);\n",
       "  color: var(--sklearn-color-background);\n",
       "  text-decoration: none;\n",
       "}\n",
       "\n",
       "#sk-container-id-1 a.estimator_doc_link.fitted:hover {\n",
       "  /* fitted */\n",
       "  background-color: var(--sklearn-color-fitted-level-3);\n",
       "}\n",
       "</style><div id=\"sk-container-id-1\" class=\"sk-top-container\"><div class=\"sk-text-repr-fallback\"><pre>RandomForestRegressor(random_state=42)</pre><b>In a Jupyter environment, please rerun this cell to show the HTML representation or trust the notebook. <br />On GitHub, the HTML representation is unable to render, please try loading this page with nbviewer.org.</b></div><div class=\"sk-container\" hidden><div class=\"sk-item\"><div class=\"sk-estimator fitted sk-toggleable\"><input class=\"sk-toggleable__control sk-hidden--visually\" id=\"sk-estimator-id-1\" type=\"checkbox\" checked><label for=\"sk-estimator-id-1\" class=\"sk-toggleable__label fitted sk-toggleable__label-arrow\"><div><div>RandomForestRegressor</div></div><div><a class=\"sk-estimator-doc-link fitted\" rel=\"noreferrer\" target=\"_blank\" href=\"https://scikit-learn.org/1.6/modules/generated/sklearn.ensemble.RandomForestRegressor.html\">?<span>Documentation for RandomForestRegressor</span></a><span class=\"sk-estimator-doc-link fitted\">i<span>Fitted</span></span></div></label><div class=\"sk-toggleable__content fitted\"><pre>RandomForestRegressor(random_state=42)</pre></div> </div></div></div></div>"
      ],
      "text/plain": [
       "RandomForestRegressor(random_state=42)"
      ]
     },
     "execution_count": 27,
     "metadata": {},
     "output_type": "execute_result"
    }
   ],
   "source": [
    "# Create a Random Forest Regressor model\n",
    "rf_model = RandomForestRegressor(random_state=42)\n",
    "rf_model.fit(X_train, y_train)"
   ]
  },
  {
   "cell_type": "code",
   "execution_count": 28,
   "metadata": {},
   "outputs": [],
   "source": [
    "# Make predictions using the model on the test data\n",
    "y_pred_rf = rf_model.predict(X_test)"
   ]
  },
  {
   "cell_type": "code",
   "execution_count": 29,
   "metadata": {},
   "outputs": [
    {
     "name": "stdout",
     "output_type": "stream",
     "text": [
      "Random Forest Mean Squared Error (MSE): 0.51\n",
      "Random Forest R-squared (R2): 0.42\n"
     ]
    }
   ],
   "source": [
    "# Evaluate the model using Mean Squared Error (MSE) and R-squared (R2) score\n",
    "mse_rf = mean_squared_error(y_test, y_pred_rf)\n",
    "r2_rf = r2_score(y_test, y_pred_rf)\n",
    "\n",
    "print(f\"Random Forest Mean Squared Error (MSE): {mse_rf:.2f}\")\n",
    "print(f\"Random Forest R-squared (R2): {r2_rf:.2f}\")"
   ]
  },
  {
   "cell_type": "code",
   "execution_count": 30,
   "metadata": {},
   "outputs": [
    {
     "data": {
      "image/png": "[encoded data removed]",
      "text/plain": [
       "<Figure size 1000x600 with 1 Axes>"
      ]
     },
     "metadata": {},
     "output_type": "display_data"
    }
   ],
   "source": [
    "# Calculate the correlation matrix\n",
    "correlation_matrix = df.corr()\n",
    "\n",
    "# Get the correlation values with the 'Overall' column\n",
    "overall_correlation = correlation_matrix['Overall']\n",
    "\n",
    "# Create a bar plot\n",
    "plt.figure(figsize=(10, 6))\n",
    "sns.barplot(x=overall_correlation.index, y=overall_correlation.values, palette='coolwarm_r', hue=overall_correlation.values)  \n",
    "\n",
    "# Set the title and labels\n",
    "plt.title('Correlation of Features with Overall', fontsize=16)\n",
    "plt.xlabel('Other Metrics', fontsize=14)\n",
    "plt.ylabel('Correlation with Overall', fontsize=14)\n",
    "\n",
    "# Rotate the x-axis labels for better readability\n",
    "plt.xticks(rotation=45, ha=\"right\")\n",
    "\n",
    "# Show the plot\n",
    "plt.tight_layout()\n",
    "plt.show()"
   ]
  }
 ],
 "metadata": {
  "kernelspec": {
   "display_name": ".venv",
   "language": "python",
   "name": "python3"
  },
  "language_info": {
   "codemirror_mode": {
    "name": "ipython",
    "version": 3
   },
   "file_extension": ".py",
   "mimetype": "text/x-python",
   "name": "python",
   "nbconvert_exporter": "python",
   "pygments_lexer": "ipython3",
   "version": "3.12.4"
  }
 },
 "nbformat": 4,
 "nbformat_minor": 2
}
